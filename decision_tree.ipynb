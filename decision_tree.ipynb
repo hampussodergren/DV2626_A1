{
 "cells": [
  {
   "cell_type": "code",
   "execution_count": 94,
   "metadata": {},
   "outputs": [],
   "source": [
    "from ucimlrepo import fetch_ucirepo\n",
    "import pandas as pd\n",
    "\n",
    "# fetch dataset (red wine)\n",
    "wine_quality = fetch_ucirepo(id=186)\n",
    "\n",
    "# set up data (as pandas dataframes)\n",
    "X = wine_quality.data.features\n",
    "y = wine_quality.data.targets\n",
    "data = pd.concat([X, y], axis = 1)"
   ]
  },
  {
   "cell_type": "code",
   "execution_count": 95,
   "metadata": {},
   "outputs": [
    {
     "name": "stdout",
     "output_type": "stream",
     "text": [
      "   fixed_acidity  volatile_acidity  citric_acid  residual_sugar  chlorides  \\\n",
      "0            7.4              0.70         0.00             1.9      0.076   \n",
      "1            7.8              0.88         0.00             2.6      0.098   \n",
      "2            7.8              0.76         0.04             2.3      0.092   \n",
      "3           11.2              0.28         0.56             1.9      0.075   \n",
      "4            7.4              0.70         0.00             1.9      0.076   \n",
      "\n",
      "   free_sulfur_dioxide  total_sulfur_dioxide  density    pH  sulphates  \\\n",
      "0                 11.0                  34.0   0.9978  3.51       0.56   \n",
      "1                 25.0                  67.0   0.9968  3.20       0.68   \n",
      "2                 15.0                  54.0   0.9970  3.26       0.65   \n",
      "3                 17.0                  60.0   0.9980  3.16       0.58   \n",
      "4                 11.0                  34.0   0.9978  3.51       0.56   \n",
      "\n",
      "   alcohol  \n",
      "0      9.4  \n",
      "1      9.8  \n",
      "2      9.8  \n",
      "3      9.8  \n",
      "4      9.4  \n"
     ]
    },
    {
     "data": {
      "image/png": "[encoded data removed]",
      "text/plain": [
       "<Figure size 640x480 with 1 Axes>"
      ]
     },
     "metadata": {},
     "output_type": "display_data"
    }
   ],
   "source": [
    "import matplotlib.pyplot as plt\n",
    "\n",
    "# Step 1\n",
    "\n",
    "# preview of data\n",
    "print(X.head())\n",
    "\n",
    "# plot class distribution\n",
    "\n",
    "y.value_counts(sort = False).sort_index().plot(kind = 'bar')  # plots a bar chart with classes inorder\n",
    "plt.title(\"Class Distribution\")\n",
    "plt.xlabel(\"Class\")\n",
    "plt.ylabel(\"Frequency\")\n",
    "plt.xticks(rotation = 0)\n",
    "plt.show()"
   ]
  },
  {
   "cell_type": "code",
   "execution_count": 96,
   "metadata": {},
   "outputs": [],
   "source": [
    "from sklearn.model_selection import train_test_split\n",
    "\n",
    "# Step 2\n",
    "\n",
    "# split into training and testing sets, in this case 80-20\n",
    "X_train, X_test, y_train, y_test = train_test_split(X, y, test_size=0.2, stratify=y, random_state=42)"
   ]
  },
  {
   "cell_type": "code",
   "execution_count": 97,
   "metadata": {},
   "outputs": [
    {
     "name": "stdout",
     "output_type": "stream",
     "text": [
      "Training size: (5197, 11)\n",
      "Test size: (1300, 11)\n",
      "Class distribution in training:\n",
      " quality\n",
      "6          0.436598\n",
      "5          0.329036\n",
      "7          0.166057\n",
      "4          0.033288\n",
      "8          0.029632\n",
      "3          0.004618\n",
      "9          0.000770\n",
      "Name: proportion, dtype: float64\n",
      "Class distribution in test:\n",
      " quality\n",
      "6          0.436154\n",
      "5          0.329231\n",
      "7          0.166154\n",
      "4          0.033077\n",
      "8          0.030000\n",
      "3          0.004615\n",
      "9          0.000769\n",
      "Name: proportion, dtype: float64\n"
     ]
    }
   ],
   "source": [
    "from sklearn.tree import DecisionTreeClassifier\n",
    "\n",
    "# Step 3\n",
    "\n",
    "# decision tree classifier\n",
    "decition_tree_classifier = DecisionTreeClassifier(random_state=42)\n",
    "\n",
    "# fit the model to training data\n",
    "decition_tree_classifier.fit(X_train, y_train)\n",
    "\n",
    "# check size and distribution of sets\n",
    "print(f\"Training size: {X_train.shape}\")\n",
    "print(f\"Test size: {X_test.shape}\")\n",
    "\n",
    "print(\"Class distribution in training:\\n\", y_train.value_counts(normalize = True))\n",
    "print(\"Class distribution in test:\\n\", y_test.value_counts(normalize = True))"
   ]
  },
  {
   "cell_type": "code",
   "execution_count": 98,
   "metadata": {},
   "outputs": [
    {
     "name": "stdout",
     "output_type": "stream",
     "text": [
      "              precision    recall  f1-score   support\n",
      "\n",
      "           3       0.00      0.00      0.00         6\n",
      "           4       0.15      0.14      0.15        43\n",
      "           5       0.67      0.65      0.66       428\n",
      "           6       0.65      0.63      0.64       567\n",
      "           7       0.49      0.56      0.52       216\n",
      "           8       0.33      0.36      0.35        39\n",
      "           9       0.00      0.00      0.00         1\n",
      "\n",
      "    accuracy                           0.60      1300\n",
      "   macro avg       0.33      0.33      0.33      1300\n",
      "weighted avg       0.60      0.60      0.60      1300\n",
      "\n",
      "Accuracy score: 0.5985\n",
      "Confusion matrix:\n",
      "[[  0   0   4   2   0   0   0]\n",
      " [  0   6  18  14   5   0   0]\n",
      " [  4  20 279  98  23   4   0]\n",
      " [  1  12  98 358  83  15   0]\n",
      " [  0   1  17  68 121   9   0]\n",
      " [  0   0   0  12  13  14   0]\n",
      " [  0   0   0   0   1   0   0]]\n"
     ]
    }
   ],
   "source": [
    "from sklearn.metrics import classification_report, confusion_matrix, accuracy_score\n",
    "\n",
    "# Step 4\n",
    "\n",
    "# create predictions on test set\n",
    "y_pred = decition_tree_classifier.predict(X_test)\n",
    "\n",
    "# evaluate classifier\n",
    "print(classification_report(y_test, y_pred, zero_division = 0))\n",
    "print(f\"Accuracy score: {accuracy_score(y_test, y_pred):.4f}\")\n",
    "print(\"Confusion matrix:\")\n",
    "print(confusion_matrix(y_test, y_pred))"
   ]
  },
  {
   "cell_type": "code",
   "execution_count": 99,
   "metadata": {},
   "outputs": [
    {
     "name": "stdout",
     "output_type": "stream",
     "text": [
      "Cross-Validation accuracy: 0.605 (+/- 0.016)\n"
     ]
    }
   ],
   "source": [
    "from sklearn.model_selection import RepeatedStratifiedKFold, cross_val_score\n",
    "\n",
    "# Step 5\n",
    "\n",
    "# cross-validation strategy\n",
    "cv = RepeatedStratifiedKFold(n_splits=5, n_repeats=3, random_state=42)\n",
    "\n",
    "# compute accuracy of cross-validation\n",
    "cv_scores = cross_val_score(decition_tree_classifier, X, y, cv=cv, scoring='accuracy')\n",
    "\n",
    "print(f\"Cross-Validation accuracy: {cv_scores.mean():.3f} (+/- {cv_scores.std():.3f})\")\n"
   ]
  }
 ],
 "metadata": {
  "kernelspec": {
   "display_name": "MyEnv",
   "language": "python",
   "name": "python3"
  },
  "language_info": {
   "codemirror_mode": {
    "name": "ipython",
    "version": 3
   },
   "file_extension": ".py",
   "mimetype": "text/x-python",
   "name": "python",
   "nbconvert_exporter": "python",
   "pygments_lexer": "ipython3",
   "version": "3.12.6"
  }
 },
 "nbformat": 4,
 "nbformat_minor": 2
}
