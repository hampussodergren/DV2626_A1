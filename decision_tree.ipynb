{
 "cells": [
  {
   "cell_type": "code",
   "execution_count": 1,
   "metadata": {},
   "outputs": [],
   "source": [
    "from ucimlrepo import fetch_ucirepo\n",
    "import pandas as pd\n",
    "\n",
    "# fetch dataset (red wine)\n",
    "wine_quality = fetch_ucirepo(id=186)\n",
    "\n",
    "# set up data\n",
    "X = wine_quality.data.features\n",
    "y = wine_quality.data.targets"
   ]
  },
  {
   "cell_type": "code",
   "execution_count": 2,
   "metadata": {},
   "outputs": [
    {
     "name": "stdout",
     "output_type": "stream",
     "text": [
      "   fixed_acidity  volatile_acidity  citric_acid  residual_sugar  chlorides  \\\n",
      "0            7.4              0.70         0.00             1.9      0.076   \n",
      "1            7.8              0.88         0.00             2.6      0.098   \n",
      "2            7.8              0.76         0.04             2.3      0.092   \n",
      "3           11.2              0.28         0.56             1.9      0.075   \n",
      "4            7.4              0.70         0.00             1.9      0.076   \n",
      "\n",
      "   free_sulfur_dioxide  total_sulfur_dioxide  density    pH  sulphates  \\\n",
      "0                 11.0                  34.0   0.9978  3.51       0.56   \n",
      "1                 25.0                  67.0   0.9968  3.20       0.68   \n",
      "2                 15.0                  54.0   0.9970  3.26       0.65   \n",
      "3                 17.0                  60.0   0.9980  3.16       0.58   \n",
      "4                 11.0                  34.0   0.9978  3.51       0.56   \n",
      "\n",
      "   alcohol  \n",
      "0      9.4  \n",
      "1      9.8  \n",
      "2      9.8  \n",
      "3      9.8  \n",
      "4      9.4  \n"
     ]
    },
    {
     "data": {
      "image/png": "[encoded data removed]",
      "text/plain": [
       "<Figure size 640x480 with 1 Axes>"
      ]
     },
     "metadata": {},
     "output_type": "display_data"
    }
   ],
   "source": [
    "import matplotlib.pyplot as plt\n",
    "\n",
    "# Step 1\n",
    "\n",
    "# preview of data\n",
    "print(X.head())\n",
    "\n",
    "# plot class distribution\n",
    "y.value_counts(sort = False).sort_index().plot(kind = 'bar')  # plots a bar chart with classes inorder\n",
    "plt.title(\"Class Distribution\")\n",
    "plt.xlabel(\"Class\")\n",
    "plt.ylabel(\"Frequency\")\n",
    "plt.xticks(rotation = 0)\n",
    "plt.show()"
   ]
  },
  {
   "cell_type": "code",
   "execution_count": 3,
   "metadata": {},
   "outputs": [],
   "source": [
    "from sklearn.model_selection import train_test_split, RepeatedStratifiedKFold, cross_val_score\n",
    "\n",
    "# Step 2\n",
    "\n",
    "# split into training and testing sets, in this case 80-20\n",
    "X_train, X_test, y_train, y_test = train_test_split(X, y, test_size=0.2, stratify=y, random_state=42)\n",
    "\n",
    "# check size and distribution of sets\n",
    "#print(f\"Training size: {X_train.shape}\")\n",
    "#print(f\"Test size: {X_test.shape}\")\n",
    "\n",
    "#print(\"Class distribution in training:\\n\", y_train.value_counts(normalize = True))\n",
    "#print(\"Class distribution in test:\\n\", y_test.value_counts(normalize = True))"
   ]
  },
  {
   "cell_type": "code",
   "execution_count": 4,
   "metadata": {},
   "outputs": [],
   "source": [
    "from sklearn.preprocessing import StandardScaler\n",
    "\n",
    "# Step 3\n",
    "\n",
    "# perform scaling on the data\n",
    "scaler = StandardScaler()\n",
    "X_train_scaled = scaler.fit_transform(X_train)\n",
    "X_test_scaled = scaler.transform(X_test)"
   ]
  },
  {
   "cell_type": "code",
   "execution_count": 5,
   "metadata": {},
   "outputs": [
    {
     "name": "stdout",
     "output_type": "stream",
     "text": [
      "Cross Validation Accuracy (Imbalanced): 0.559 (+/- 0.010)\n"
     ]
    }
   ],
   "source": [
    "from sklearn.tree import DecisionTreeClassifier\n",
    "\n",
    "# Step 4\n",
    "\n",
    "# cv on imbalanced data\n",
    "cv = RepeatedStratifiedKFold(n_splits=3, n_repeats=10, random_state=42)\n",
    "imbalanced_clf = DecisionTreeClassifier(random_state=42)\n",
    "cv_scores_imbalanced = cross_val_score(imbalanced_clf, X_train_scaled, y_train, cv=cv, scoring='accuracy')\n",
    "\n",
    "# results\n",
    "print(f\"Cross Validation Accuracy (Imbalanced): {cv_scores_imbalanced.mean():.3f} (+/- {cv_scores_imbalanced.std():.3f})\")\n"
   ]
  },
  {
   "cell_type": "code",
   "execution_count": 6,
   "metadata": {},
   "outputs": [
    {
     "name": "stdout",
     "output_type": "stream",
     "text": [
      "\n",
      "Evaluation on Imbalanced Dataset:\n",
      "              precision    recall  f1-score   support\n",
      "\n",
      "           3       0.00      0.00      0.00         6\n",
      "           4       0.15      0.14      0.14        43\n",
      "           5       0.67      0.65      0.66       428\n",
      "           6       0.65      0.63      0.64       567\n",
      "           7       0.49      0.56      0.52       216\n",
      "           8       0.34      0.36      0.35        39\n",
      "           9       0.00      0.00      0.00         1\n",
      "\n",
      "    accuracy                           0.60      1300\n",
      "   macro avg       0.33      0.33      0.33      1300\n",
      "weighted avg       0.60      0.60      0.60      1300\n",
      "\n",
      "Accuracy: 0.5969\n",
      "Confusion Matrix:\n",
      "[[  0   0   4   2   0   0   0]\n",
      " [  0   6  18  14   5   0   0]\n",
      " [  4  21 278  98  23   4   0]\n",
      " [  1  12  99 358  83  14   0]\n",
      " [  0   1  17  69 120   9   0]\n",
      " [  0   0   0  12  13  14   0]\n",
      " [  0   0   0   0   1   0   0]]\n"
     ]
    }
   ],
   "source": [
    "from sklearn.metrics import classification_report, confusion_matrix, accuracy_score\n",
    "\n",
    "# Step 6\n",
    "\n",
    "# evaluate on test set\n",
    "imbalanced_clf.fit(X_train_scaled, y_train)\n",
    "imbalanced_pred = imbalanced_clf.predict(X_test_scaled)\n",
    "\n",
    "print(\"\\nEvaluation on Imbalanced Dataset:\")\n",
    "print(classification_report(y_test, imbalanced_pred, zero_division=0))\n",
    "print(f\"Accuracy: {accuracy_score(y_test, imbalanced_pred):.4f}\")\n",
    "print(\"Confusion Matrix:\")\n",
    "print(confusion_matrix(y_test, imbalanced_pred))"
   ]
  },
  {
   "cell_type": "code",
   "execution_count": 7,
   "metadata": {},
   "outputs": [
    {
     "data": {
      "image/png": "[encoded data removed]",
      "text/plain": [
       "<Figure size 640x480 with 1 Axes>"
      ]
     },
     "metadata": {},
     "output_type": "display_data"
    },
    {
     "name": "stdout",
     "output_type": "stream",
     "text": [
      "\\nEvaluation on Balanced Dataset:\n",
      "              precision    recall  f1-score   support\n",
      "\n",
      "           3       0.07      0.17      0.10         6\n",
      "           4       0.15      0.28      0.19        43\n",
      "           5       0.64      0.58      0.61       428\n",
      "           6       0.64      0.56      0.60       567\n",
      "           7       0.51      0.62      0.56       216\n",
      "           8       0.34      0.51      0.41        39\n",
      "           9       0.00      0.00      0.00         1\n",
      "\n",
      "    accuracy                           0.56      1300\n",
      "   macro avg       0.34      0.39      0.35      1300\n",
      "weighted avg       0.59      0.56      0.57      1300\n",
      "\n",
      "Accuracy: 0.5615\n",
      "Confusion Matrix:\n",
      "[[  1   3   0   2   0   0   0]\n",
      " [  2  12   9  18   2   0   0]\n",
      " [  5  39 247 103  31   3   0]\n",
      " [  6  24 107 317  87  24   2]\n",
      " [  0   3  19  49 133  12   0]\n",
      " [  0   0   1   8  10  20   0]\n",
      " [  0   0   0   1   0   0   0]]\n",
      "Cross-Validation Accuracy (Balanced): 0.823 (+/- 0.005)\n"
     ]
    }
   ],
   "source": [
    "from imblearn.over_sampling import SMOTE\n",
    "import numpy as np\n",
    "\n",
    "# Step 7, 8, 9\n",
    "\n",
    "# balance the train set\n",
    "y_train = np.ravel(y_train) # make sure y_train is 1-dimensional\n",
    "smote = SMOTE(random_state=42, k_neighbors=2)\n",
    "X_train_balanced, y_train_balanced = smote.fit_resample(X_train_scaled, y_train)\n",
    "\n",
    "# plot balanced distribution\n",
    "pd.Series(y_train_balanced).value_counts(sort=False).sort_index().plot(kind='bar')\n",
    "plt.title(\"Class Distribution (Balanced)\")\n",
    "plt.xlabel(\"Class\")\n",
    "plt.ylabel(\"Frequency\")\n",
    "plt.xticks(rotation=0)\n",
    "plt.show()\n",
    "\n",
    "# train decition tree on balanced data\n",
    "balanced_clf = DecisionTreeClassifier(random_state=42)\n",
    "balanced_clf.fit(X_train_balanced, y_train_balanced)\n",
    "\n",
    "# evaluate test set\n",
    "balanced_pred = balanced_clf.predict(X_test_scaled)\n",
    "print(\"\\\\nEvaluation on Balanced Dataset:\")\n",
    "print(classification_report(y_test, balanced_pred, zero_division=0))\n",
    "print(f\"Accuracy: {accuracy_score(y_test, balanced_pred):.4f}\")\n",
    "print(\"Confusion Matrix:\")\n",
    "print(confusion_matrix(y_test, balanced_pred))\n",
    "\n",
    "# cv on balanced data\n",
    "cv_scores_balanced = cross_val_score(balanced_clf, X_train_balanced, y_train_balanced, cv=cv, scoring='accuracy')\n",
    "print(f\"Cross-Validation Accuracy (Balanced): {cv_scores_balanced.mean():.3f} (+/- {cv_scores_balanced.std():.3f})\")"
   ]
  }
 ],
 "metadata": {
  "kernelspec": {
   "display_name": "MyEnv",
   "language": "python",
   "name": "python3"
  },
  "language_info": {
   "codemirror_mode": {
    "name": "ipython",
    "version": 3
   },
   "file_extension": ".py",
   "mimetype": "text/x-python",
   "name": "python",
   "nbconvert_exporter": "python",
   "pygments_lexer": "ipython3",
   "version": "3.12.6"
  }
 },
 "nbformat": 4,
 "nbformat_minor": 2
}
