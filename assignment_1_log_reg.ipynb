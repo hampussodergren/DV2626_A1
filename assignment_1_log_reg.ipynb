{
 "cells": [
  {
   "cell_type": "code",
   "execution_count": null,
   "metadata": {},
   "outputs": [
    {
     "data": {
      "image/png": "[encoded data removed]",
      "text/plain": [
       "<Figure size 640x480 with 1 Axes>"
      ]
     },
     "metadata": {},
     "output_type": "display_data"
    }
   ],
   "source": [
    "# Initiate\n",
    "import pandas as pd\n",
    "from ucimlrepo import fetch_ucirepo\n",
    "import matplotlib.pyplot as plt\n",
    "\n",
    "# Fetch dataset (red wine)\n",
    "wine_quality = fetch_ucirepo(id=186)\n",
    "\n",
    "# Create pandas dataframes of the data.\n",
    "X = wine_quality.data.features\n",
    "y = wine_quality.data.targets\n",
    "data = pd.concat([X, y], axis = 1)\n",
    "\n",
    "# STEP 1\n",
    "\n",
    "# Display the first few rows of the dataset\n",
    "# print(data.head())\n",
    "\n",
    "# Plot class distribution\n",
    "data['quality'].value_counts(sort = False).sort_index().plot(kind = 'bar')\n",
    "plt.title(\"Class Distribution\")\n",
    "plt.xlabel(\"Class\")\n",
    "plt.ylabel(\"Frequency\")\n",
    "plt.xticks(rotation = 0)\n",
    "plt.show()\n"
   ]
  },
  {
   "cell_type": "code",
   "execution_count": 13,
   "metadata": {},
   "outputs": [],
   "source": [
    "# STEP 2\n",
    "\n",
    "from sklearn.model_selection import train_test_split\n",
    "\n",
    "# Binarize the target variable (e.g., classify wine as good or bad)\n",
    "data['quality'] = (data['quality'] >= 6).astype(int)  # Assuming quality >= 6 is 'good' and < 6 is 'bad'\n",
    "\n",
    "# Define the feature matrix X and the target vector y\n",
    "X = data.drop('quality', axis=1)\n",
    "y = data['quality']\n",
    "\n",
    "# Split the dataset into training and testing sets\n",
    "X_train, X_test, y_train, y_test = train_test_split(X, y, test_size=0.2, random_state=42)"
   ]
  },
  {
   "cell_type": "code",
   "execution_count": 14,
   "metadata": {},
   "outputs": [],
   "source": [
    "# STEP 3\n",
    "\n",
    "from sklearn.preprocessing import StandardScaler\n",
    "\n",
    "# Perform scaling on the data\n",
    "scaler = StandardScaler()\n",
    "X_train_scaled = scaler.fit_transform(X_train)\n",
    "X_test_scaled = scaler.transform(X_test)"
   ]
  },
  {
   "cell_type": "code",
   "execution_count": null,
   "metadata": {},
   "outputs": [],
   "source": [
    "# STEP 4\n",
    "\n",
    "from sklearn.linear_model import LogisticRegression\n",
    "from sklearn.model_selection import RepeatedKFold, cross_val_score\n",
    "\n",
    "# Initialize the logistic regression model\n",
    "model = LogisticRegression(solver='liblinear')\n",
    "\n",
    "# Define the cross-validation strategy\n",
    "rkf = RepeatedKFold(n_splits=3, n_repeats=10, random_state=42)\n",
    "\n",
    "# Choose metrics for evaluation\n",
    "scoring_metrics = ['accuracy', 'precision', 'recall']\n",
    "\n",
    "# Evaluate the model using cross-validation\n",
    "results = {}\n",
    "for metric in scoring_metrics:\n",
    "    scores = cross_val_score(model, X_train_scaled, y_train, scoring=metric, cv=rkf)\n",
    "    results[metric] = (scores.mean(), scores.std())\n",
    "\n",
    "# Print the evaluation results\n",
    "for metric in scoring_metrics:\n",
    "    print(f\"\\n{metric.capitalize()} - Mean: {results[metric][0]:.4f}, Std Dev: {results[metric][1]:.4f}\")"
   ]
  },
  {
   "cell_type": "code",
   "execution_count": null,
   "metadata": {},
   "outputs": [
    {
     "name": "stdout",
     "output_type": "stream",
     "text": [
      "\n",
      "Test Set Metrics:\n",
      "Accuracy: 0.7238\n",
      "Precision: 0.7823\n",
      "Recall: 0.7998\n"
     ]
    }
   ],
   "source": [
    "# STEP 5\n",
    "\n",
    "from sklearn.metrics import accuracy_score, precision_score, recall_score\n",
    "\n",
    "# Train the model on the entire training set\n",
    "model.fit(X_train_scaled, y_train)\n",
    "\n",
    "# Make predictions on the test set\n",
    "y_pred = model.predict(X_test_scaled)\n",
    "\n",
    "# Calculate and print test set metrics\n",
    "test_accuracy = accuracy_score(y_test, y_pred)\n",
    "test_precision = precision_score(y_test, y_pred)\n",
    "test_recall = recall_score(y_test, y_pred)\n",
    "\n",
    "print(f\"\\nTest Set Metrics:\")\n",
    "print(f\"Accuracy: {test_accuracy:.4f}\")\n",
    "print(f\"Precision: {test_precision:.4f}\")\n",
    "print(f\"Recall: {test_recall:.4f}\")"
   ]
  }
 ],
 "metadata": {
  "kernelspec": {
   "display_name": ".venv",
   "language": "python",
   "name": "python3"
  },
  "language_info": {
   "codemirror_mode": {
    "name": "ipython",
    "version": 3
   },
   "file_extension": ".py",
   "mimetype": "text/x-python",
   "name": "python",
   "nbconvert_exporter": "python",
   "pygments_lexer": "ipython3",
   "version": "3.10.11"
  }
 },
 "nbformat": 4,
 "nbformat_minor": 2
}
